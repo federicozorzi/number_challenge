{
 "cells": [
  {
   "cell_type": "code",
   "execution_count": 1,
   "metadata": {},
   "outputs": [],
   "source": [
    "import numpy as np\n",
    "from number_challenge import *"
   ]
  },
  {
   "cell_type": "code",
   "execution_count": 2,
   "metadata": {},
   "outputs": [],
   "source": [
    "## parameters settings\n",
    "a = 0\n",
    "b = 999\n",
    "\n",
    "n = 2"
   ]
  },
  {
   "cell_type": "code",
   "execution_count": 4,
   "metadata": {},
   "outputs": [
    {
     "name": "stdout",
     "output_type": "stream",
     "text": [
      "Partite giocate: 1000000\n",
      "Partite vinte: 749722\n",
      "Win ratio: 74.9722 \n",
      "\n",
      "CPU times: total: 34.4 s\n",
      "Wall time: 34.7 s\n"
     ]
    }
   ],
   "source": [
    "%%time\n",
    "game = NumberChallenge(n, a, b)\n",
    "\n",
    "n_games = 1000000\n",
    "verbosity = 0\n",
    "\n",
    "games = list()\n",
    "wins = list()\n",
    "\n",
    "for k in range(n_games):\n",
    "    game.restart()\n",
    "    result = game.simulate_game(verbosity=verbosity)\n",
    "    games.append(result)\n",
    "    if verbosity > 0:\n",
    "        print(\"\\n\")\n",
    "    if result:\n",
    "        wins.append([game.number_list.copy(), k])\n",
    "\n",
    "print(f\"Partite giocate: {len(games)}\\nPartite vinte: {sum(games)}\\nWin ratio: {100*sum(games)/len(games)} \\n\")\n",
    "    "
   ]
  },
  {
   "attachments": {},
   "cell_type": "markdown",
   "metadata": {},
   "source": [
    "### Examples for function find_possible_spots"
   ]
  },
  {
   "cell_type": "code",
   "execution_count": null,
   "metadata": {},
   "outputs": [],
   "source": [
    "# es_0\n",
    "v = np.empty(10)\n",
    "v.fill(np.NaN)\n",
    "r = 100\n",
    "\n",
    "print(v)\n",
    "print(r)\n",
    "\n",
    "pos_start, pos_stop = find_possible_spots(v, r)\n",
    "pos_start, pos_stop"
   ]
  },
  {
   "cell_type": "code",
   "execution_count": null,
   "metadata": {},
   "outputs": [],
   "source": [
    "# es_1\n",
    "v = np.empty(10)\n",
    "v.fill(np.NaN)\n",
    "v[5] = 99\n",
    "r = 100\n",
    "\n",
    "print(v)\n",
    "print(r)\n",
    "\n",
    "pos_start, pos_stop = find_possible_spots(v, r)\n",
    "pos_start, pos_stop"
   ]
  },
  {
   "cell_type": "code",
   "execution_count": null,
   "metadata": {},
   "outputs": [],
   "source": [
    "# es_2\n",
    "v = np.empty(10)\n",
    "v.fill(np.NaN)\n",
    "v[5] = 900\n",
    "r = 100\n",
    "\n",
    "print(v)\n",
    "print(r)\n",
    "\n",
    "pos_start, pos_stop = find_possible_spots(v, r)\n",
    "pos_start, pos_stop"
   ]
  },
  {
   "cell_type": "code",
   "execution_count": null,
   "metadata": {},
   "outputs": [],
   "source": [
    "# es_3\n",
    "v = np.empty(10)\n",
    "v.fill(np.NaN)\n",
    "v[5] = 99\n",
    "v[8] = 102\n",
    "r = 100\n",
    "\n",
    "print(v)\n",
    "print(r)\n",
    "\n",
    "pos_start, pos_stop = find_possible_spots(v, r)\n",
    "pos_start, pos_stop"
   ]
  },
  {
   "cell_type": "code",
   "execution_count": null,
   "metadata": {},
   "outputs": [],
   "source": [
    "# es_4\n",
    "v = np.empty(10)\n",
    "v.fill(np.NaN)\n",
    "v[5] = 99\n",
    "v[6] = 102\n",
    "r = 100\n",
    "\n",
    "print(v)\n",
    "print(r)\n",
    "\n",
    "pos_start, pos_stop = find_possible_spots(v, r)\n",
    "pos_start, pos_stop"
   ]
  },
  {
   "cell_type": "code",
   "execution_count": null,
   "metadata": {},
   "outputs": [],
   "source": [
    "# es_5\n",
    "v = np.empty(10)\n",
    "v.fill(np.NaN)\n",
    "v[2] = 50\n",
    "v[4] = 99\n",
    "v[8] = 281\n",
    "r = 100\n",
    "\n",
    "print(v)\n",
    "print(r)\n",
    "\n",
    "pos_start, pos_stop = find_possible_spots(v, r)\n",
    "pos_start, pos_stop"
   ]
  },
  {
   "attachments": {},
   "cell_type": "markdown",
   "metadata": {},
   "source": [
    "### Examples for algorithm correct behaviour"
   ]
  },
  {
   "cell_type": "code",
   "execution_count": null,
   "metadata": {},
   "outputs": [],
   "source": [
    "nn = 10"
   ]
  },
  {
   "cell_type": "code",
   "execution_count": null,
   "metadata": {},
   "outputs": [],
   "source": [
    "# es_0\n",
    "v = np.empty(nn)\n",
    "v.fill(np.NaN)\n",
    "print(v, \"\\n\")\n",
    "\n",
    "r = 206\n",
    "pos_start, pos_stop = find_possible_spots(v, r)\n",
    "val, v = insert_number(v, r, pos_start, pos_stop, a, b)\n",
    "print(val)\n",
    "print(v, \"\\n\")\n",
    "\n",
    "r = 103\n",
    "pos_start, pos_stop = find_possible_spots(v, r)\n",
    "val, v = insert_number(v, r, pos_start, pos_stop, a, b)\n",
    "print(val)\n",
    "print(v, \"\\n\")\n",
    "\n",
    "r = 768\n",
    "pos_start, pos_stop = find_possible_spots(v, r)\n",
    "val, v = insert_number(v, r, pos_start, pos_stop, a, b)\n",
    "print(val)\n",
    "print(v, \"\\n\")\n",
    "\n",
    "r = 118\n",
    "pos_start, pos_stop = find_possible_spots(v, r)\n",
    "val, v = insert_number(v, r, pos_start, pos_stop, a, b)\n",
    "print(val)\n",
    "print(v, \"\\n\")"
   ]
  },
  {
   "cell_type": "code",
   "execution_count": null,
   "metadata": {},
   "outputs": [],
   "source": []
  }
 ],
 "metadata": {
  "kernelspec": {
   "display_name": "venv_base",
   "language": "python",
   "name": "python3"
  },
  "language_info": {
   "codemirror_mode": {
    "name": "ipython",
    "version": 3
   },
   "file_extension": ".py",
   "mimetype": "text/x-python",
   "name": "python",
   "nbconvert_exporter": "python",
   "pygments_lexer": "ipython3",
   "version": "3.8.9"
  },
  "orig_nbformat": 4
 },
 "nbformat": 4,
 "nbformat_minor": 2
}
